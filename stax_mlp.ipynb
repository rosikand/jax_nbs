{
  "nbformat": 4,
  "nbformat_minor": 0,
  "metadata": {
    "colab": {
      "provenance": []
    },
    "kernelspec": {
      "name": "python3",
      "display_name": "Python 3"
    },
    "language_info": {
      "name": "python"
    },
    "gpuClass": "standard"
  },
  "cells": [
    {
      "cell_type": "markdown",
      "source": [
        "## Stax MLP on b-mnist "
      ],
      "metadata": {
        "id": "jNA8GMskfLh6"
      }
    },
    {
      "cell_type": "code",
      "execution_count": 1,
      "metadata": {
        "colab": {
          "base_uri": "https://localhost:8080/"
        },
        "id": "weRKGu1afBYF",
        "outputId": "c91a2426-a49c-4f04-af6d-4336a44c7608"
      },
      "outputs": [
        {
          "output_type": "stream",
          "name": "stdout",
          "text": [
            "Looking in indexes: https://pypi.org/simple, https://us-python.pkg.dev/colab-wheels/public/simple/\n",
            "Collecting rsbox\n",
            "  Downloading rsbox-0.0.9-py3-none-any.whl (6.7 kB)\n",
            "Installing collected packages: rsbox\n",
            "Successfully installed rsbox-0.0.9\n"
          ]
        }
      ],
      "source": [
        "!pip install rsbox"
      ]
    },
    {
      "cell_type": "code",
      "source": [
        "from rsbox import ml, misc"
      ],
      "metadata": {
        "id": "1wC8cPtcfPgi"
      },
      "execution_count": 2,
      "outputs": []
    },
    {
      "cell_type": "code",
      "source": [
        "dset = misc.load_dataset(\"https://stanford.edu/~rsikand/assets/datasets/mini_binary_mnist.pkl\")"
      ],
      "metadata": {
        "id": "2FXmRd-cfbZR"
      },
      "execution_count": 3,
      "outputs": []
    },
    {
      "cell_type": "code",
      "source": [
        "dset[0][0].shape"
      ],
      "metadata": {
        "colab": {
          "base_uri": "https://localhost:8080/"
        },
        "id": "jNj-PevOf9EW",
        "outputId": "f1d33fb9-2f22-413c-958e-ddee7737097c"
      },
      "execution_count": 4,
      "outputs": [
        {
          "output_type": "execute_result",
          "data": {
            "text/plain": [
              "(1, 28, 28)"
            ]
          },
          "metadata": {},
          "execution_count": 4
        }
      ]
    },
    {
      "cell_type": "code",
      "source": [
        "# plot some samples\n",
        "for i, elem in enumerate(dset):\n",
        "  if i > 5:\n",
        "    break\n",
        "  ml.plot(elem[0], color=False)"
      ],
      "metadata": {
        "colab": {
          "base_uri": "https://localhost:8080/",
          "height": 1000
        },
        "id": "9HuwePIcfk9K",
        "outputId": "28f08e99-bf92-4f7d-96bd-820fb0a3a583"
      },
      "execution_count": 5,
      "outputs": [
        {
          "output_type": "display_data",
          "data": {
            "text/plain": [
              "<Figure size 432x288 with 1 Axes>"
            ],
            "image/png": "[encoded data removed]"
          },
          "metadata": {
            "needs_background": "light"
          }
        },
        {
          "output_type": "display_data",
          "data": {
            "text/plain": [
              "<Figure size 432x288 with 1 Axes>"
            ],
            "image/png": "[encoded data removed]"
          },
          "metadata": {
            "needs_background": "light"
          }
        },
        {
          "output_type": "display_data",
          "data": {
            "text/plain": [
              "<Figure size 432x288 with 1 Axes>"
            ],
            "image/png": "[encoded data removed]"
          },
          "metadata": {
            "needs_background": "light"
          }
        },
        {
          "output_type": "display_data",
          "data": {
            "text/plain": [
              "<Figure size 432x288 with 1 Axes>"
            ],
            "image/png": "[encoded data removed]"
          },
          "metadata": {
            "needs_background": "light"
          }
        },
        {
          "output_type": "display_data",
          "data": {
            "text/plain": [
              "<Figure size 432x288 with 1 Axes>"
            ],
            "image/png": "[encoded data removed]"
          },
          "metadata": {
            "needs_background": "light"
          }
        },
        {
          "output_type": "display_data",
          "data": {
            "text/plain": [
              "<Figure size 432x288 with 1 Axes>"
            ],
            "image/png": "[encoded data removed]"
          },
          "metadata": {
            "needs_background": "light"
          }
        }
      ]
    },
    {
      "cell_type": "markdown",
      "source": [
        "## Model "
      ],
      "metadata": {
        "id": "bvMVCdm0izz0"
      }
    },
    {
      "cell_type": "code",
      "source": [
        "import jax.numpy as jnp\n",
        "from jax import random\n",
        "from jax.example_libraries import stax\n",
        "from jax.example_libraries.stax import (\n",
        "    Dense, Relu, Flatten, Sigmoid)\n",
        "\n",
        "# Use stax to set up network initialization and evaluation functions\n",
        "net_init, net_apply = stax.serial(\n",
        "    Flatten,\n",
        "    Dense(1*28*28), Relu,\n",
        "    Dense(128), Relu,\n",
        "    Dense(64), Relu,\n",
        "    Dense(1), Sigmoid\n",
        ")\n",
        "\n",
        "# Initialize parameters, not committing to a batch shape\n",
        "rng = random.PRNGKey(0)\n",
        "in_shape = (-1, 1, 28, 28)\n",
        "out_shape, net_params = net_init(rng, in_shape)"
      ],
      "metadata": {
        "id": "CuLviG0Ki2AR"
      },
      "execution_count": 16,
      "outputs": []
    },
    {
      "cell_type": "code",
      "source": [
        "# Apply network to dummy inputs\n",
        "inputs = jnp.ones((4, 1, 28, 28))\n",
        "predictions = net_apply(net_params, inputs)"
      ],
      "metadata": {
        "id": "MWvL89TZj0Y6"
      },
      "execution_count": 17,
      "outputs": []
    },
    {
      "cell_type": "code",
      "source": [
        "print(predictions, \"\\n -\")\n",
        "print((predictions > 0.5).astype(float))"
      ],
      "metadata": {
        "colab": {
          "base_uri": "https://localhost:8080/"
        },
        "id": "dcWf5XGKj9vy",
        "outputId": "8f318ef0-e1e0-448d-f294-dcfa08fc702a"
      },
      "execution_count": 18,
      "outputs": [
        {
          "output_type": "stream",
          "name": "stdout",
          "text": [
            "[[0.7324219]\n",
            " [0.7324219]\n",
            " [0.7324219]\n",
            " [0.7324219]] \n",
            " -\n",
            "[[1.]\n",
            " [1.]\n",
            " [1.]\n",
            " [1.]]\n"
          ]
        }
      ]
    },
    {
      "cell_type": "code",
      "source": [
        "print(type(net_params))\n",
        "print(type(net_params[1]))"
      ],
      "metadata": {
        "colab": {
          "base_uri": "https://localhost:8080/"
        },
        "id": "FL5OGUc2kD_u",
        "outputId": "2952cc3e-3226-4418-ce68-c94bdda0cf0c"
      },
      "execution_count": 19,
      "outputs": [
        {
          "output_type": "stream",
          "name": "stdout",
          "text": [
            "<class 'list'>\n",
            "<class 'tuple'>\n"
          ]
        }
      ]
    },
    {
      "cell_type": "markdown",
      "source": [
        "The params are a list of tuples. "
      ],
      "metadata": {
        "id": "qP0yXVDtlXzV"
      }
    },
    {
      "cell_type": "code",
      "source": [
        "net_apply(net_params, jnp.ones((1, 28, 28)))"
      ],
      "metadata": {
        "colab": {
          "base_uri": "https://localhost:8080/"
        },
        "id": "1fSjEujWlY9e",
        "outputId": "6bfa0430-8f87-41e5-833c-b88db5466e7a"
      },
      "execution_count": 20,
      "outputs": [
        {
          "output_type": "execute_result",
          "data": {
            "text/plain": [
              "DeviceArray([[0.7324219]], dtype=float32)"
            ]
          },
          "metadata": {},
          "execution_count": 20
        }
      ]
    },
    {
      "cell_type": "markdown",
      "source": [
        "Hmmm... how does that handle auto-batching without a vmap? "
      ],
      "metadata": {
        "id": "Bwm380slmscN"
      }
    },
    {
      "cell_type": "code",
      "source": [
        "gradient_step = lambda p, g, lr: p - lr * g"
      ],
      "metadata": {
        "id": "3clLt60rDJBX"
      },
      "execution_count": 21,
      "outputs": []
    },
    {
      "cell_type": "code",
      "source": [
        "from jax import nn\n",
        "import jax"
      ],
      "metadata": {
        "id": "CsusmJFuHaB0"
      },
      "execution_count": 24,
      "outputs": []
    },
    {
      "cell_type": "code",
      "source": [
        "bce_loss = lambda logits, y: -(y * jax.nn.log_sigmoid(logits) + (1 - y) * jax.nn.log_sigmoid(1-logits)) "
      ],
      "metadata": {
        "id": "9Kxz7gvHEqBi"
      },
      "execution_count": 26,
      "outputs": []
    },
    {
      "cell_type": "code",
      "source": [
        "!pip install optax"
      ],
      "metadata": {
        "colab": {
          "base_uri": "https://localhost:8080/"
        },
        "id": "_vtyHEH3H1oc",
        "outputId": "15b2952d-b2e9-4fcb-d085-82334c3c6393"
      },
      "execution_count": 27,
      "outputs": [
        {
          "output_type": "stream",
          "name": "stdout",
          "text": [
            "Looking in indexes: https://pypi.org/simple, https://us-python.pkg.dev/colab-wheels/public/simple/\n",
            "Collecting optax\n",
            "  Downloading optax-0.1.4-py3-none-any.whl (154 kB)\n",
            "\u001b[K     |████████████████████████████████| 154 kB 5.2 MB/s \n",
            "\u001b[?25hRequirement already satisfied: jaxlib>=0.1.37 in /usr/local/lib/python3.7/dist-packages (from optax) (0.3.25+cuda11.cudnn805)\n",
            "Requirement already satisfied: numpy>=1.18.0 in /usr/local/lib/python3.7/dist-packages (from optax) (1.21.6)\n",
            "Collecting chex>=0.1.5\n",
            "  Downloading chex-0.1.5-py3-none-any.whl (85 kB)\n",
            "\u001b[K     |████████████████████████████████| 85 kB 4.3 MB/s \n",
            "\u001b[?25hRequirement already satisfied: typing-extensions>=3.10.0 in /usr/local/lib/python3.7/dist-packages (from optax) (4.1.1)\n",
            "Requirement already satisfied: jax>=0.1.55 in /usr/local/lib/python3.7/dist-packages (from optax) (0.3.25)\n",
            "Requirement already satisfied: absl-py>=0.7.1 in /usr/local/lib/python3.7/dist-packages (from optax) (1.3.0)\n",
            "Requirement already satisfied: dm-tree>=0.1.5 in /usr/local/lib/python3.7/dist-packages (from chex>=0.1.5->optax) (0.1.7)\n",
            "Requirement already satisfied: toolz>=0.9.0 in /usr/local/lib/python3.7/dist-packages (from chex>=0.1.5->optax) (0.12.0)\n",
            "Requirement already satisfied: scipy>=1.5 in /usr/local/lib/python3.7/dist-packages (from jax>=0.1.55->optax) (1.7.3)\n",
            "Requirement already satisfied: opt-einsum in /usr/local/lib/python3.7/dist-packages (from jax>=0.1.55->optax) (3.3.0)\n",
            "Installing collected packages: chex, optax\n",
            "Successfully installed chex-0.1.5 optax-0.1.4\n"
          ]
        }
      ]
    },
    {
      "cell_type": "code",
      "source": [
        " predictions"
      ],
      "metadata": {
        "colab": {
          "base_uri": "https://localhost:8080/"
        },
        "id": "ggKmXIgjH5Js",
        "outputId": "d4824156-dc32-4779-e4cd-385fd4cdab77"
      },
      "execution_count": 28,
      "outputs": [
        {
          "output_type": "execute_result",
          "data": {
            "text/plain": [
              "DeviceArray([[0.7324219],\n",
              "             [0.7324219],\n",
              "             [0.7324219],\n",
              "             [0.7324219]], dtype=float32)"
            ]
          },
          "metadata": {},
          "execution_count": 28
        }
      ]
    },
    {
      "cell_type": "code",
      "source": [
        "ys = jnp.array([1,1,1,1])"
      ],
      "metadata": {
        "id": "pcDcsm6BJEHu"
      },
      "execution_count": 30,
      "outputs": []
    },
    {
      "cell_type": "code",
      "source": [
        "from jax import grad, jit, vmap"
      ],
      "metadata": {
        "id": "rYnI8tKzJb4D"
      },
      "execution_count": 35,
      "outputs": []
    },
    {
      "cell_type": "code",
      "source": [
        "import optax\n",
        "optax.sigmoid_binary_cross_entropy(predictions[0], ys[0])"
      ],
      "metadata": {
        "colab": {
          "base_uri": "https://localhost:8080/"
        },
        "id": "9kW7q3QeJHvZ",
        "outputId": "7fb7e29a-3f63-43e1-fde6-6126be87e7e3"
      },
      "execution_count": 33,
      "outputs": [
        {
          "output_type": "execute_result",
          "data": {
            "text/plain": [
              "DeviceArray([0.39254418], dtype=float32)"
            ]
          },
          "metadata": {},
          "execution_count": 33
        }
      ]
    },
    {
      "cell_type": "code",
      "source": [
        "bce_loss(predictions, ys)"
      ],
      "metadata": {
        "colab": {
          "base_uri": "https://localhost:8080/"
        },
        "id": "y66v3LaxJ-LM",
        "outputId": "d5a40ac6-d7d1-47c1-b1a4-6caff917a327"
      },
      "execution_count": 46,
      "outputs": [
        {
          "output_type": "execute_result",
          "data": {
            "text/plain": [
              "DeviceArray([[0.39254418, 0.39254418, 0.39254418, 0.39254418],\n",
              "             [0.39254418, 0.39254418, 0.39254418, 0.39254418],\n",
              "             [0.39254418, 0.39254418, 0.39254418, 0.39254418],\n",
              "             [0.39254418, 0.39254418, 0.39254418, 0.39254418]],            dtype=float32)"
            ]
          },
          "metadata": {},
          "execution_count": 46
        }
      ]
    },
    {
      "cell_type": "code",
      "source": [
        "from jax import grad, jit, vmap"
      ],
      "metadata": {
        "id": "dbPiynz1KDtn"
      },
      "execution_count": 37,
      "outputs": []
    },
    {
      "cell_type": "code",
      "source": [
        "bce_batched = vmap(bce_loss)"
      ],
      "metadata": {
        "id": "yxMfkUeAKEbs"
      },
      "execution_count": 48,
      "outputs": []
    },
    {
      "cell_type": "code",
      "source": [
        "def stateless_loss(params, net_apply, loss_function, x, y):\n",
        "  model_preds = net_apply(params, x)\n",
        "  loss_value = loss_function(model_preds, y)\n",
        "  return jnp.squeeze(loss_value)"
      ],
      "metadata": {
        "id": "IiI_t0GCLKrj"
      },
      "execution_count": 63,
      "outputs": []
    },
    {
      "cell_type": "code",
      "source": [
        "from jax import value_and_grad, tree_util"
      ],
      "metadata": {
        "id": "PSSXE9sONJcR"
      },
      "execution_count": 64,
      "outputs": []
    },
    {
      "cell_type": "code",
      "source": [
        "from rsbox import ml, misc"
      ],
      "metadata": {
        "id": "j4pScgIxN79x"
      },
      "execution_count": 65,
      "outputs": []
    },
    {
      "cell_type": "code",
      "source": [
        "@jax.jit\n",
        "def update_step(params, grads, lr):\n",
        "    \"\"\"\n",
        "    Updates params via one step of gradient descent. \n",
        "    Arguments: \n",
        "    -----------\n",
        "    - params: pytree of parameters for the net \n",
        "    - grads: gradient of loss wrt to params \n",
        "    - lr: learning rate (step size) \n",
        "    Returns: \n",
        "    -----------\n",
        "    loss_value: updated params  \n",
        "    \"\"\"\n",
        "    gradient_step = lambda p, g: p - lr * g   \n",
        "    return tree_util.tree_map(gradient_step, params, grads)"
      ],
      "metadata": {
        "id": "YQBPzC7SSFZh"
      },
      "execution_count": 69,
      "outputs": []
    },
    {
      "cell_type": "code",
      "source": [
        "num_epochs = 10\n",
        "learning_rate = 0.01\n",
        "loss_metric = ml.MeanMetric()\n",
        "\n",
        "\n",
        "\n",
        "for i in range(num_epochs):\n",
        "  loss_metric.reset()\n",
        "  for batch in dset:\n",
        "    x, y = batch\n",
        "    loss_val, grads = value_and_grad(stateless_loss)(net_params, net_apply, bce_loss, x, y)\n",
        "    loss_metric.update(loss_val)\n",
        "    net_params = update_step(net_params, grads, learning_rate)\n",
        "  \n",
        "  epoch_loss = loss_metric.get()\n",
        "  print(f\"Loss (epoch {i}): \", epoch_loss)"
      ],
      "metadata": {
        "colab": {
          "base_uri": "https://localhost:8080/"
        },
        "id": "5940zoIEEKv8",
        "outputId": "cd008d0e-1f07-4e5e-f4b8-01c531603c4f"
      },
      "execution_count": 70,
      "outputs": [
        {
          "output_type": "stream",
          "name": "stdout",
          "text": [
            "Loss (epoch 0):  0.43531743\n",
            "Loss (epoch 1):  0.37873676\n",
            "Loss (epoch 2):  0.34777504\n",
            "Loss (epoch 3):  0.33328837\n",
            "Loss (epoch 4):  0.32626435\n",
            "Loss (epoch 5):  0.322431\n",
            "Loss (epoch 6):  0.32013223\n",
            "Loss (epoch 7):  0.31864673\n",
            "Loss (epoch 8):  0.31762904\n",
            "Loss (epoch 9):  0.3169005\n"
          ]
        }
      ]
    },
    {
      "cell_type": "code",
      "source": [],
      "metadata": {
        "id": "PB-V0Cg0OY09"
      },
      "execution_count": null,
      "outputs": []
    }
  ]
}